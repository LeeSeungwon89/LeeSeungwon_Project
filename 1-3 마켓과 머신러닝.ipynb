{
  "nbformat": 4,
  "nbformat_minor": 0,
  "metadata": {
    "colab": {
      "name": "1-3 마켓과 머신러닝.ipynb",
      "provenance": [],
      "collapsed_sections": [],
      "toc_visible": true,
      "authorship_tag": "ABX9TyOfQcGulAaOy+cQZu+IYfzA",
      "include_colab_link": true
    },
    "kernelspec": {
      "name": "python3",
      "display_name": "Python 3"
    },
    "language_info": {
      "name": "python"
    }
  },
  "cells": [
    {
      "cell_type": "markdown",
      "metadata": {
        "id": "view-in-github",
        "colab_type": "text"
      },
      "source": [
        "<a href=\"https://colab.research.google.com/github/LeeSeungwon89/LeeSeungwon_Project/blob/main/1-3%20%EB%A7%88%EC%BC%93%EA%B3%BC%20%EB%A8%B8%EC%8B%A0%EB%9F%AC%EB%8B%9D.ipynb\" target=\"_parent\"><img src=\"https://colab.research.google.com/assets/colab-badge.svg\" alt=\"Open In Colab\"/></a>"
      ]
    },
    {
      "cell_type": "markdown",
      "metadata": {
        "id": "spl3SdIxqx3X"
      },
      "source": [
        "# 1-3 마켓과 머신러닝"
      ]
    },
    {
      "cell_type": "markdown",
      "metadata": {
        "id": "6ZhrE0B7xTYL"
      },
      "source": [
        "## 생선 분류 문제"
      ]
    },
    {
      "cell_type": "markdown",
      "metadata": {
        "id": "QCh84opNxbQh"
      },
      "source": [
        "### 도미 데이터 준비"
      ]
    },
    {
      "cell_type": "code",
      "metadata": {
        "colab": {
          "base_uri": "https://localhost:8080/",
          "height": 279
        },
        "id": "dlULNPWQv9en",
        "outputId": "b2013ea6-93f9-498b-d784-e150e05c3dee"
      },
      "source": [
        "bream_length = [25.4, 26.3, 26.5, 29.0, 29.0, 29.7, 29.7, 30.0, 30.0, 30.7, 31.0, 31.0, \n",
        "                31.5, 32.0, 32.0, 32.0, 33.0, 33.0, 33.5, 33.5, 34.0, 34.0, 34.5, 35.0, \n",
        "                35.0, 35.0, 35.0, 36.0, 36.0, 37.0, 38.5, 38.5, 39.5, 41.0, 41.0]\n",
        "\n",
        "bream_weight = [242.0, 290.0, 340.0, 363.0, 430.0, 450.0, 500.0, 390.0, 450.0, 500.0, 475.0, 500.0, \n",
        "                500.0, 340.0, 600.0, 600.0, 700.0, 700.0, 610.0, 650.0, 575.0, 685.0, 620.0, 680.0, \n",
        "                700.0, 725.0, 720.0, 714.0, 850.0, 1000.0, 920.0, 955.0, 925.0, 975.0, 950.0]\n",
        "\n",
        "import matplotlib.pyplot as plt\n",
        "\n",
        "plt.scatter(bream_length, bream_weight)\n",
        "\n",
        "plt.xlabel('length')\n",
        "plt.ylabel('weigth')\n",
        "\n",
        "plt.show()"
      ],
      "execution_count": null,
      "outputs": [
        {
          "output_type": "display_data",
          "data": {
            "image/png": "[encoded data removed]",
            "text/plain": [
              "<Figure size 432x288 with 1 Axes>"
            ]
          },
          "metadata": {
            "tags": [],
            "needs_background": "light"
          }
        }
      ]
    },
    {
      "cell_type": "markdown",
      "metadata": {
        "id": "9iYnlJTrxf0N"
      },
      "source": [
        "### 빙어 데이터 준비"
      ]
    },
    {
      "cell_type": "code",
      "metadata": {
        "colab": {
          "base_uri": "https://localhost:8080/",
          "height": 279
        },
        "id": "RxxwgSNfpeBi",
        "outputId": "ef0c67af-ce48-41fb-812e-5d42092b7d6a"
      },
      "source": [
        "smelt_length = [9.8, 10.5, 10.6, 11.0, 11.2, 11.3, 11.8, 11.8, 12.0, 12.2, 12.4, 13.0, 14.3, 15.0]\n",
        "smelt_weight = [6.7, 7.5, 7.0, 9.7, 9.8, 8.7, 10.0, 9.9, 9.8, 12.2, 13.4, 12.2, 19.7, 19.9]\n",
        "\n",
        "plt.scatter(bream_length, bream_weight)\n",
        "plt.scatter(smelt_length, smelt_weight)\n",
        "\n",
        "plt.xlabel('length')\n",
        "plt.ylabel('weight')\n",
        "\n",
        "plt.show()"
      ],
      "execution_count": null,
      "outputs": [
        {
          "output_type": "display_data",
          "data": {
            "image/png": "[encoded data removed]",
            "text/plain": [
              "<Figure size 432x288 with 1 Axes>"
            ]
          },
          "metadata": {
            "tags": [],
            "needs_background": "light"
          }
        }
      ]
    },
    {
      "cell_type": "markdown",
      "metadata": {
        "id": "HYXAGxQVx8N-"
      },
      "source": [
        "### 도미, 빙어 데이터 세트 준비"
      ]
    },
    {
      "cell_type": "code",
      "metadata": {
        "colab": {
          "base_uri": "https://localhost:8080/"
        },
        "id": "zxKTl8YuqPm6",
        "outputId": "08cfa893-da32-4e63-f606-7422f1e7ff0b"
      },
      "source": [
        "# 두 리스트를 더하여 하나로 만듦.\n",
        "length = bream_length + smelt_length\n",
        "weight = bream_weight + bream_weight\n",
        "\n",
        "print(length)\n",
        "print(weight)"
      ],
      "execution_count": null,
      "outputs": [
        {
          "output_type": "stream",
          "text": [
            "[25.4, 26.3, 26.5, 29.0, 29.0, 29.7, 29.7, 30.0, 30.0, 30.7, 31.0, 31.0, 31.5, 32.0, 32.0, 32.0, 33.0, 33.0, 33.5, 33.5, 34.0, 34.0, 34.5, 35.0, 35.0, 35.0, 35.0, 36.0, 36.0, 37.0, 38.5, 38.5, 39.5, 41.0, 41.0, 9.8, 10.5, 10.6, 11.0, 11.2, 11.3, 11.8, 11.8, 12.0, 12.2, 12.4, 13.0, 14.3, 15.0]\n",
            "[242.0, 290.0, 340.0, 363.0, 430.0, 450.0, 500.0, 390.0, 450.0, 500.0, 475.0, 500.0, 500.0, 340.0, 600.0, 600.0, 700.0, 700.0, 610.0, 650.0, 575.0, 685.0, 620.0, 680.0, 700.0, 725.0, 720.0, 714.0, 850.0, 1000.0, 920.0, 955.0, 925.0, 975.0, 950.0, 242.0, 290.0, 340.0, 363.0, 430.0, 450.0, 500.0, 390.0, 450.0, 500.0, 475.0, 500.0, 500.0, 340.0, 600.0, 600.0, 700.0, 700.0, 610.0, 650.0, 575.0, 685.0, 620.0, 680.0, 700.0, 725.0, 720.0, 714.0, 850.0, 1000.0, 920.0, 955.0, 925.0, 975.0, 950.0]\n"
          ],
          "name": "stdout"
        }
      ]
    },
    {
      "cell_type": "code",
      "metadata": {
        "colab": {
          "base_uri": "https://localhost:8080/"
        },
        "id": "9rGF4weqsaH5",
        "outputId": "04decbdf-9f9f-4179-cbdc-e3543bcb39b6"
      },
      "source": [
        "# 각 특성의 리스트를 세로 방향 2차원 리스트로 만듦.\n",
        "fish_data = [[l, w] for l, w in zip(length, weight)] # length와 weight 리스트에서 원소를 하나씩 꺼내서 l과 w에 할당함.\n",
        "\n",
        "print(fish_data)"
      ],
      "execution_count": null,
      "outputs": [
        {
          "output_type": "stream",
          "text": [
            "[[25.4, 242.0], [26.3, 290.0], [26.5, 340.0], [29.0, 363.0], [29.0, 430.0], [29.7, 450.0], [29.7, 500.0], [30.0, 390.0], [30.0, 450.0], [30.7, 500.0], [31.0, 475.0], [31.0, 500.0], [31.5, 500.0], [32.0, 340.0], [32.0, 600.0], [32.0, 600.0], [33.0, 700.0], [33.0, 700.0], [33.5, 610.0], [33.5, 650.0], [34.0, 575.0], [34.0, 685.0], [34.5, 620.0], [35.0, 680.0], [35.0, 700.0], [35.0, 725.0], [35.0, 720.0], [36.0, 714.0], [36.0, 850.0], [37.0, 1000.0], [38.5, 920.0], [38.5, 955.0], [39.5, 925.0], [41.0, 975.0], [41.0, 950.0], [9.8, 242.0], [10.5, 290.0], [10.6, 340.0], [11.0, 363.0], [11.2, 430.0], [11.3, 450.0], [11.8, 500.0], [11.8, 390.0], [12.0, 450.0], [12.2, 500.0], [12.4, 475.0], [13.0, 500.0], [14.3, 500.0], [15.0, 340.0]]\n"
          ],
          "name": "stdout"
        }
      ]
    },
    {
      "cell_type": "code",
      "metadata": {
        "colab": {
          "base_uri": "https://localhost:8080/"
        },
        "id": "YVcrDdFgsqYE",
        "outputId": "e773c744-1f55-46d2-a95e-c96623ae9fe8"
      },
      "source": [
        "# 도미 35마리, 빙어 14마리로 타깃 리스트를 만듦.\n",
        "fish_target = [1] * 35 + [0] * 14\n",
        "\n",
        "print(fish_target)"
      ],
      "execution_count": null,
      "outputs": [
        {
          "output_type": "stream",
          "text": [
            "[1, 1, 1, 1, 1, 1, 1, 1, 1, 1, 1, 1, 1, 1, 1, 1, 1, 1, 1, 1, 1, 1, 1, 1, 1, 1, 1, 1, 1, 1, 1, 1, 1, 1, 1, 0, 0, 0, 0, 0, 0, 0, 0, 0, 0, 0, 0, 0, 0]\n"
          ],
          "name": "stdout"
        }
      ]
    },
    {
      "cell_type": "markdown",
      "metadata": {
        "id": "l58rK_CgyIH7"
      },
      "source": [
        "## K-최근접 이웃 알고리즘"
      ]
    },
    {
      "cell_type": "code",
      "metadata": {
        "colab": {
          "base_uri": "https://localhost:8080/"
        },
        "id": "lxfjfp15tTO6",
        "outputId": "2ed5282b-0043-4df2-f59a-8bc37801d8d1"
      },
      "source": [
        "from sklearn.neighbors import KNeighborsClassifier\n",
        "\n",
        "kn = KNeighborsClassifier() # n_neighbors: 인접한 이웃 중에 예측으로 활용할 이웃의 개수를 특정하는 매개변수. 기본값은 5. \n",
        "\n",
        "kn.fit(fish_data, fish_target) # 알고리즘으로 데이터 세트를 훈련함.\n",
        "\n",
        "kn.score(fish_data, fish_target) # 정확도를 확인함."
      ],
      "execution_count": null,
      "outputs": [
        {
          "output_type": "execute_result",
          "data": {
            "text/plain": [
              "1.0"
            ]
          },
          "metadata": {
            "tags": []
          },
          "execution_count": 6
        }
      ]
    },
    {
      "cell_type": "code",
      "metadata": {
        "colab": {
          "base_uri": "https://localhost:8080/"
        },
        "id": "ldwd-rRSmPFg",
        "outputId": "fca5c9c6-bdaf-4d7a-da87-2c26a2e3864c"
      },
      "source": [
        "kn.predict([[30, 600]]) # 도미로 예측함."
      ],
      "execution_count": null,
      "outputs": [
        {
          "output_type": "execute_result",
          "data": {
            "text/plain": [
              "array([1])"
            ]
          },
          "metadata": {
            "tags": []
          },
          "execution_count": 7
        }
      ]
    },
    {
      "cell_type": "code",
      "metadata": {
        "colab": {
          "base_uri": "https://localhost:8080/",
          "height": 279
        },
        "id": "N9Mmw-XEr1G8",
        "outputId": "1c8ee530-99da-4b2b-b1be-1fb24127a25f"
      },
      "source": [
        "plt.scatter(bream_length, bream_weight)\n",
        "plt.scatter(smelt_length, smelt_weight)\n",
        "plt.scatter(30, 600, marker='^')\n",
        "\n",
        "plt.xlabel('length')\n",
        "plt.ylabel('weight')\n",
        "\n",
        "plt.show()"
      ],
      "execution_count": null,
      "outputs": [
        {
          "output_type": "display_data",
          "data": {
            "image/png": "[encoded data removed]",
            "text/plain": [
              "<Figure size 432x288 with 1 Axes>"
            ]
          },
          "metadata": {
            "tags": [],
            "needs_background": "light"
          }
        }
      ]
    },
    {
      "cell_type": "code",
      "metadata": {
        "colab": {
          "base_uri": "https://localhost:8080/"
        },
        "id": "qIYBgkxsmpGR",
        "outputId": "f98c01da-9bf4-4fa3-e8d0-2fa873814fdd"
      },
      "source": [
        "print(kn._fit_X) # 'kn._fit_X' 에 fish_Data를 가짐."
      ],
      "execution_count": null,
      "outputs": [
        {
          "output_type": "stream",
          "text": [
            "[[  25.4  242. ]\n",
            " [  26.3  290. ]\n",
            " [  26.5  340. ]\n",
            " [  29.   363. ]\n",
            " [  29.   430. ]\n",
            " [  29.7  450. ]\n",
            " [  29.7  500. ]\n",
            " [  30.   390. ]\n",
            " [  30.   450. ]\n",
            " [  30.7  500. ]\n",
            " [  31.   475. ]\n",
            " [  31.   500. ]\n",
            " [  31.5  500. ]\n",
            " [  32.   340. ]\n",
            " [  32.   600. ]\n",
            " [  32.   600. ]\n",
            " [  33.   700. ]\n",
            " [  33.   700. ]\n",
            " [  33.5  610. ]\n",
            " [  33.5  650. ]\n",
            " [  34.   575. ]\n",
            " [  34.   685. ]\n",
            " [  34.5  620. ]\n",
            " [  35.   680. ]\n",
            " [  35.   700. ]\n",
            " [  35.   725. ]\n",
            " [  35.   720. ]\n",
            " [  36.   714. ]\n",
            " [  36.   850. ]\n",
            " [  37.  1000. ]\n",
            " [  38.5  920. ]\n",
            " [  38.5  955. ]\n",
            " [  39.5  925. ]\n",
            " [  41.   975. ]\n",
            " [  41.   950. ]\n",
            " [   9.8  242. ]\n",
            " [  10.5  290. ]\n",
            " [  10.6  340. ]\n",
            " [  11.   363. ]\n",
            " [  11.2  430. ]\n",
            " [  11.3  450. ]\n",
            " [  11.8  500. ]\n",
            " [  11.8  390. ]\n",
            " [  12.   450. ]\n",
            " [  12.2  500. ]\n",
            " [  12.4  475. ]\n",
            " [  13.   500. ]\n",
            " [  14.3  500. ]\n",
            " [  15.   340. ]]\n"
          ],
          "name": "stdout"
        }
      ]
    },
    {
      "cell_type": "code",
      "metadata": {
        "colab": {
          "base_uri": "https://localhost:8080/"
        },
        "id": "G28MsaP5m5OY",
        "outputId": "0a52b7c2-4b64-4ac4-87a5-22f5e02221a8"
      },
      "source": [
        "print(kn._y) # 'kn._y' 에 fish_target을 가짐."
      ],
      "execution_count": null,
      "outputs": [
        {
          "output_type": "stream",
          "text": [
            "[1 1 1 1 1 1 1 1 1 1 1 1 1 1 1 1 1 1 1 1 1 1 1 1 1 1 1 1 1 1 1 1 1 1 1 0 0\n",
            " 0 0 0 0 0 0 0 0 0 0 0 0]\n"
          ],
          "name": "stdout"
        }
      ]
    },
    {
      "cell_type": "code",
      "metadata": {
        "colab": {
          "base_uri": "https://localhost:8080/"
        },
        "id": "aFoJ49XUnRJt",
        "outputId": "289ae1ee-76c7-4c25-8f00-43df84ca8a90"
      },
      "source": [
        "kn49 = KNeighborsClassifier(n_neighbors=49) # 49개 모두 사용하여 예측함. 무조건 도미로 예측함.\n",
        "\n",
        "kn49.fit(fish_data, fish_target)\n",
        "\n",
        "kn49.score(fish_data, fish_target)"
      ],
      "execution_count": null,
      "outputs": [
        {
          "output_type": "execute_result",
          "data": {
            "text/plain": [
              "0.7142857142857143"
            ]
          },
          "metadata": {
            "tags": []
          },
          "execution_count": 11
        }
      ]
    },
    {
      "cell_type": "code",
      "metadata": {
        "colab": {
          "base_uri": "https://localhost:8080/"
        },
        "id": "IHBN5EoQoW6B",
        "outputId": "b08ded60-7901-4496-fcff-aae584962313"
      },
      "source": [
        "print(35/49)\n",
        "# 무조건 도미만 예측하므로 위의 kn49.score와 같은 예측값임.\n",
        "# 정확도 = (정확히 맞힌 개수) / (전체 데이터 개수).\n",
        "# 'n_neighbors=49' 는 옳지 않음."
      ],
      "execution_count": null,
      "outputs": [
        {
          "output_type": "stream",
          "text": [
            "0.7142857142857143\n"
          ],
          "name": "stdout"
        }
      ]
    },
    {
      "cell_type": "markdown",
      "metadata": {
        "id": "gMyF75i0szbt"
      },
      "source": [
        "## 마무리\n"
      ]
    },
    {
      "cell_type": "markdown",
      "metadata": {
        "id": "mv8aFD1-7jrh"
      },
      "source": [
        "### 핵심 패키지와 함수\n",
        "\n",
        "- `scatter()`: [마커 종류](https://bit.ly/matplotlib_marker)\n",
        "\n",
        "- `KNeighborsClassifier()`\n",
        "\n",
        " - `p`: 거리 재는 방법을 지정하는 매개변수. 기본값은 2.\n",
        "\n",
        "   1일 경우 [맨해튼 거리](https://bit.ly/man_distance)\n",
        "\n",
        "   2일 경우 [유클리디안 거리](https://bit.ly/euc_distance)"
      ]
    },
    {
      "cell_type": "markdown",
      "metadata": {
        "id": "DIwW_2B90RmD"
      },
      "source": [
        "### 확인문제 4\n",
        "\n",
        "`n_neighbors` 의 기본값인 5부터 49까지 바꾸며 점수가 1.0 아래로 내려가는 이웃 개수 찾기"
      ]
    },
    {
      "cell_type": "code",
      "metadata": {
        "colab": {
          "base_uri": "https://localhost:8080/"
        },
        "id": "Zrj1jCuyy-mp",
        "outputId": "c90dd5f1-4064-4e6c-edc8-24b4e76934bc"
      },
      "source": [
        "kn = KNeighborsClassifier()\n",
        "\n",
        "kn.fit(fish_data, fish_target)\n",
        "\n",
        "for n in range(5, 50) : # 5에서 49까지 돌림.\n",
        "\n",
        "    kn.n_neighbors = n\n",
        "\n",
        "    score = kn.score(fish_data, fish_target)\n",
        "\n",
        "    if score < 1 :\n",
        "        print(n, score)\n",
        "        break"
      ],
      "execution_count": null,
      "outputs": [
        {
          "output_type": "stream",
          "text": [
            "6 0.9183673469387755\n"
          ],
          "name": "stdout"
        }
      ]
    }
  ]
}